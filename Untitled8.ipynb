{
  "nbformat": 4,
  "nbformat_minor": 0,
  "metadata": {
    "colab": {
      "name": "Untitled8.ipynb",
      "provenance": [],
      "collapsed_sections": [],
      "include_colab_link": true
    },
    "kernelspec": {
      "name": "python3",
      "display_name": "Python 3"
    },
    "language_info": {
      "name": "python"
    }
  },
  "cells": [
    {
      "cell_type": "markdown",
      "metadata": {
        "id": "view-in-github",
        "colab_type": "text"
      },
      "source": [
        "<a href=\"https://colab.research.google.com/github/OUAALOUHOUM/Logistic-Regression/blob/main/Untitled8.ipynb\" target=\"_parent\"><img src=\"https://colab.research.google.com/assets/colab-badge.svg\" alt=\"Open In Colab\"/></a>"
      ]
    },
    {
      "cell_type": "code",
      "execution_count": 33,
      "metadata": {
        "id": "lhxN7HSDbQ2d",
        "colab": {
          "base_uri": "https://localhost:8080/",
          "height": 130
        },
        "outputId": "4e1d04f0-bd0e-4ed6-d9ba-551eef233e2a"
      },
      "outputs": [
        {
          "output_type": "error",
          "ename": "SyntaxError",
          "evalue": "ignored",
          "traceback": [
            "\u001b[0;36m  File \u001b[0;32m\"<ipython-input-33-a54ba7bae7af>\"\u001b[0;36m, line \u001b[0;32m6\u001b[0m\n\u001b[0;31m    def projection(x,z):\u001b[0m\n\u001b[0m      ^\u001b[0m\n\u001b[0;31mSyntaxError\u001b[0m\u001b[0;31m:\u001b[0m invalid syntax\n"
          ]
        }
      ],
      "source": [
        "import numpy as np\n",
        "\n",
        "def gradientProj (A, x0,e,r,u, tol =0.000001 , Niter =1000): #l'algorithme projecte a pas optimal\n",
        "    J=1/2*(np.dot(A,x0)*x0\n",
        "    dJ= np.dot(A,x0)\n",
        "    def projection(x,z): #calcul de la projection d'un vecteur\n",
        "      B=[[e.transpose(),0],[u.transpose(),0]]\n",
        "      X=[x,0].transpose()\n",
        "      c=[r,1].transpose()\n",
        "      d=B*B.transpose()\n",
        "      g=d.np.linalg.inv(d)\n",
        "      PK=z+(B.transpose())*d*(c-np.dot(B,z))\n",
        "    \n",
        "      return PK\n",
        "\n",
        "    #gradient optimal\n",
        "    residu=J\n",
        "    j=0;\n",
        "    while(norm(residu)>tol):\n",
        "        do=A*J\n",
        "        rho=(dJ*residu)/(dJ*do)\n",
        "        xo=xo-rho*residu\n",
        "        residu=residu-rho*do\n",
        "        j=j+1\n",
        "                             \n",
        "    return rho                         \n",
        "    \n",
        "\n",
        "\n",
        "\n",
        "    \n",
        "    xn , L = PK ( x0 ) ,[]\n",
        "    for n in range ( Niter ):\n",
        "        xnp1 = PK ( xn - rho * dJ ( xn ) )\n",
        "        if norm ( xnp1 - xn ) < tol :\n",
        "          return xnp1 , L\n",
        "        L . append ( xn )\n",
        "        xn = xnp1\n",
        "    print (\" Problème , l’algorithme n’a pas convergé après \", Niter , \" itérations \")\n",
        "    \n"
      ]
    },
    {
      "cell_type": "code",
      "source": [
        "\n",
        "\n",
        "m = int(input('number of rows, m = '))\n",
        "n = int(input('number of columns, n = '))\n",
        "matrix = []; columns = []\n",
        "# initialize the number of rows\n",
        "for i in range(0,m):\n",
        "  matrix += [0]\n",
        "# initialize the number of columns\n",
        "for j in range (0,n):\n",
        "  columns += [0]\n",
        "# initialize the matrix\n",
        "for i in range (0,m):\n",
        "  matrix[i] = columns\n",
        "for i in range (0,m):\n",
        "  for j in range (0,n):\n",
        "    print ('entry in row: ',i+1,' column: ',j+1)\n",
        "    matrix[i][j] = int(input())\n",
        "print (matrix)\n",
        "\n",
        "\n",
        "\n",
        "\n"
      ],
      "metadata": {
        "colab": {
          "base_uri": "https://localhost:8080/"
        },
        "id": "lQNiiDZBbWid",
        "outputId": "11ef1e31-ceef-4a1a-df3b-2b19f48de43f"
      },
      "execution_count": 8,
      "outputs": [
        {
          "output_type": "stream",
          "name": "stdout",
          "text": [
            "number of rows, m = 2\n",
            "number of columns, n = 2\n",
            "entry in row:  1  column:  1\n",
            "1\n",
            "entry in row:  1  column:  2\n",
            "1\n",
            "entry in row:  2  column:  1\n",
            "1\n",
            "entry in row:  2  column:  2\n",
            "1\n",
            "[[1, 1], [1, 1]]\n"
          ]
        }
      ]
    },
    {
      "cell_type": "code",
      "source": [
        "m = int(input('number of rows, m = '))\n",
        "n = int(input('number of columns, n = '))\n",
        "matrixv = []; columns = []\n",
        "# initialize the number of rows\n",
        "for i in range(0,m):\n",
        "  matrixv += [0]\n",
        "# initialize the number of columns\n",
        "for j in range (0,n):\n",
        "  columns += [0]\n",
        "# initialize the matrix\n",
        "for i in range (0,m):\n",
        "  matrixv[i] = columns\n",
        "for i in range (0,m):\n",
        "  for j in range (0,n):\n",
        "    print ('entry in row: ',i+1,' column: ',j+1)\n",
        "    matrixv[i][j] = int(input())\n",
        "print (matrixv)\n"
      ],
      "metadata": {
        "id": "LCcAk62mpx4j",
        "colab": {
          "base_uri": "https://localhost:8080/"
        },
        "outputId": "fa6f1bd1-de19-47d9-f7cc-e43219cbdb4e"
      },
      "execution_count": 16,
      "outputs": [
        {
          "output_type": "stream",
          "name": "stdout",
          "text": [
            "number of rows, m = 2\n",
            "number of columns, n = 1\n",
            "entry in row:  1  column:  1\n",
            "1\n",
            "entry in row:  2  column:  1\n",
            "0\n",
            "[[0], [0]]\n"
          ]
        }
      ]
    },
    {
      "cell_type": "code",
      "source": [
        "e=matrixv\n",
        "r=matrixv\n",
        "u=r"
      ],
      "metadata": {
        "id": "qWK8ylQd8S25"
      },
      "execution_count": 17,
      "outputs": []
    },
    {
      "cell_type": "code",
      "source": [
        "a=np.dot(matrix,matrixv)\n",
        "b=matrixv\n",
        "d=a*b"
      ],
      "metadata": {
        "id": "h0LpWneW7yew"
      },
      "execution_count": 21,
      "outputs": []
    },
    {
      "cell_type": "code",
      "source": [
        "#test\n",
        "A=matrix\n",
        "x0=matrixv\n",
        "gradientProj (A, x0,e,r,u, tol =0.000001 , Niter =1000)"
      ],
      "metadata": {
        "colab": {
          "base_uri": "https://localhost:8080/",
          "height": 321
        },
        "id": "XkTKccj4-cuO",
        "outputId": "063cd17a-0e13-4c2c-dcb6-521d190a3058"
      },
      "execution_count": 23,
      "outputs": [
        {
          "output_type": "error",
          "ename": "TypeError",
          "evalue": "ignored",
          "traceback": [
            "\u001b[0;31m---------------------------------------------------------------------------\u001b[0m",
            "\u001b[0;31mTypeError\u001b[0m                                 Traceback (most recent call last)",
            "\u001b[0;32m<ipython-input-23-b840557f9ca7>\u001b[0m in \u001b[0;36m<module>\u001b[0;34m()\u001b[0m\n\u001b[1;32m      1\u001b[0m \u001b[0mA\u001b[0m\u001b[0;34m=\u001b[0m\u001b[0mmatrix\u001b[0m\u001b[0;34m\u001b[0m\u001b[0;34m\u001b[0m\u001b[0m\n\u001b[1;32m      2\u001b[0m \u001b[0mx0\u001b[0m\u001b[0;34m=\u001b[0m\u001b[0mmatrixv\u001b[0m\u001b[0;34m\u001b[0m\u001b[0;34m\u001b[0m\u001b[0m\n\u001b[0;32m----> 3\u001b[0;31m \u001b[0mgradientProj\u001b[0m \u001b[0;34m(\u001b[0m\u001b[0mA\u001b[0m\u001b[0;34m,\u001b[0m \u001b[0mx0\u001b[0m\u001b[0;34m,\u001b[0m\u001b[0me\u001b[0m\u001b[0;34m,\u001b[0m\u001b[0mr\u001b[0m\u001b[0;34m,\u001b[0m\u001b[0mu\u001b[0m\u001b[0;34m,\u001b[0m \u001b[0mtol\u001b[0m \u001b[0;34m=\u001b[0m\u001b[0;36m0.000001\u001b[0m \u001b[0;34m,\u001b[0m \u001b[0mNiter\u001b[0m \u001b[0;34m=\u001b[0m\u001b[0;36m1000\u001b[0m\u001b[0;34m)\u001b[0m\u001b[0;34m\u001b[0m\u001b[0;34m\u001b[0m\u001b[0m\n\u001b[0m",
            "\u001b[0;32m<ipython-input-7-da212b38ba24>\u001b[0m in \u001b[0;36mgradientProj\u001b[0;34m(A, x0, e, r, u, tol, Niter)\u001b[0m\n\u001b[1;32m      2\u001b[0m \u001b[0;34m\u001b[0m\u001b[0m\n\u001b[1;32m      3\u001b[0m \u001b[0;32mdef\u001b[0m \u001b[0mgradientProj\u001b[0m \u001b[0;34m(\u001b[0m\u001b[0mA\u001b[0m\u001b[0;34m,\u001b[0m \u001b[0mx0\u001b[0m\u001b[0;34m,\u001b[0m\u001b[0me\u001b[0m\u001b[0;34m,\u001b[0m\u001b[0mr\u001b[0m\u001b[0;34m,\u001b[0m\u001b[0mu\u001b[0m\u001b[0;34m,\u001b[0m \u001b[0mtol\u001b[0m \u001b[0;34m=\u001b[0m\u001b[0;36m0.000001\u001b[0m \u001b[0;34m,\u001b[0m \u001b[0mNiter\u001b[0m \u001b[0;34m=\u001b[0m\u001b[0;36m1000\u001b[0m\u001b[0;34m)\u001b[0m\u001b[0;34m:\u001b[0m\u001b[0;34m\u001b[0m\u001b[0;34m\u001b[0m\u001b[0m\n\u001b[0;32m----> 4\u001b[0;31m     \u001b[0mJ\u001b[0m\u001b[0;34m=\u001b[0m\u001b[0;36m1\u001b[0m\u001b[0;34m/\u001b[0m\u001b[0;36m2\u001b[0m\u001b[0;34m*\u001b[0m\u001b[0mnp\u001b[0m\u001b[0;34m.\u001b[0m\u001b[0mdot\u001b[0m\u001b[0;34m(\u001b[0m\u001b[0mA\u001b[0m\u001b[0;34m*\u001b[0m\u001b[0mx0\u001b[0m\u001b[0;34m,\u001b[0m\u001b[0mx0\u001b[0m\u001b[0;34m)\u001b[0m\u001b[0;34m\u001b[0m\u001b[0;34m\u001b[0m\u001b[0m\n\u001b[0m\u001b[1;32m      5\u001b[0m     \u001b[0mdJ\u001b[0m\u001b[0;34m=\u001b[0m\u001b[0mA\u001b[0m\u001b[0;34m*\u001b[0m\u001b[0mx0\u001b[0m\u001b[0;34m\u001b[0m\u001b[0;34m\u001b[0m\u001b[0m\n\u001b[1;32m      6\u001b[0m     \u001b[0;32mdef\u001b[0m \u001b[0mprojection\u001b[0m\u001b[0;34m(\u001b[0m\u001b[0mx\u001b[0m\u001b[0;34m,\u001b[0m\u001b[0mz\u001b[0m\u001b[0;34m)\u001b[0m\u001b[0;34m:\u001b[0m\u001b[0;34m\u001b[0m\u001b[0;34m\u001b[0m\u001b[0m\n",
            "\u001b[0;31mTypeError\u001b[0m: can't multiply sequence by non-int of type 'list'"
          ]
        }
      ]
    }
  ]
}