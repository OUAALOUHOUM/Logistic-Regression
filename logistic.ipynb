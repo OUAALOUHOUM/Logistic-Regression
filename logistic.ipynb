{
  "cells": [
    {
      "cell_type": "markdown",
      "metadata": {
        "id": "view-in-github",
        "colab_type": "text"
      },
      "source": [
        "<a href=\"https://colab.research.google.com/github/OUAALOUHOUM/Logistic-Regression/blob/main/logistic.ipynb\" target=\"_parent\"><img src=\"https://colab.research.google.com/assets/colab-badge.svg\" alt=\"Open In Colab\"/></a>"
      ]
    },
    {
      "cell_type": "code",
      "source": [
        "'My Jupyter Notebook on IBM Watson Studio'\n"
      ],
      "metadata": {
        "id": "6MwRzV8SPUWM",
        "outputId": "434c6d9a-9700-4fdc-8f22-da4f14761ab2",
        "colab": {
          "base_uri": "https://localhost:8080/",
          "height": 35
        }
      },
      "execution_count": 1,
      "outputs": [
        {
          "output_type": "execute_result",
          "data": {
            "application/vnd.google.colaboratory.intrinsic+json": {
              "type": "string"
            },
            "text/plain": [
              "'My Jupyter Notebook on IBM Watson Studio'"
            ]
          },
          "metadata": {},
          "execution_count": 1
        }
      ]
    },
    {
      "cell_type": "code",
      "source": [
        "'OUAALOUHOUM OUMAIMA'"
      ],
      "metadata": {
        "id": "j428I-biPeYj",
        "outputId": "45738003-640d-40b8-c1f1-7b493b836601",
        "colab": {
          "base_uri": "https://localhost:8080/",
          "height": 35
        }
      },
      "execution_count": 2,
      "outputs": [
        {
          "output_type": "execute_result",
          "data": {
            "application/vnd.google.colaboratory.intrinsic+json": {
              "type": "string"
            },
            "text/plain": [
              "'OUAALOUHOUM OUMAIMA'"
            ]
          },
          "metadata": {},
          "execution_count": 2
        }
      ]
    },
    {
      "cell_type": "code",
      "source": [
        "\"I am interested in data science because i like maths and programming\""
      ],
      "metadata": {
        "id": "y4qX3vxjPkXv",
        "outputId": "d63bdc1e-f1c9-4bff-9985-e4e6dedb1475",
        "colab": {
          "base_uri": "https://localhost:8080/",
          "height": 35
        }
      },
      "execution_count": 3,
      "outputs": [
        {
          "output_type": "execute_result",
          "data": {
            "application/vnd.google.colaboratory.intrinsic+json": {
              "type": "string"
            },
            "text/plain": [
              "'I am interested in data science because i like maths and programming'"
            ]
          },
          "metadata": {},
          "execution_count": 3
        }
      ]
    },
    {
      "cell_type": "code",
      "source": [
        "'in this cell i am going to visualize a plot'"
      ],
      "metadata": {
        "id": "KxWPQCUSPv7m",
        "outputId": "0e14eb39-6e80-4b20-a2e3-f50320cbd37a",
        "colab": {
          "base_uri": "https://localhost:8080/",
          "height": 35
        }
      },
      "execution_count": 4,
      "outputs": [
        {
          "output_type": "execute_result",
          "data": {
            "application/vnd.google.colaboratory.intrinsic+json": {
              "type": "string"
            },
            "text/plain": [
              "'in this cell i am going to visualize a plot'"
            ]
          },
          "metadata": {},
          "execution_count": 4
        }
      ]
    },
    {
      "cell_type": "code",
      "source": [
        "liste=[1,2,3,4,5]\n"
      ],
      "metadata": {
        "id": "agBWt-EvQFhW"
      },
      "execution_count": 8,
      "outputs": []
    },
    {
      "cell_type": "code",
      "source": [
        "import random\n",
        "import math\n",
        "import numpy\n",
        "import numpy.random\n",
        "from matplotlib.pyplot import *"
      ],
      "metadata": {
        "id": "aXstMDrQQsIi"
      },
      "execution_count": 10,
      "outputs": []
    },
    {
      "cell_type": "code",
      "source": [
        "\n",
        "hist(liste)\n",
        "show()"
      ],
      "metadata": {
        "id": "WWTSnFEaQXBe",
        "outputId": "c5424287-2837-4faa-f037-a14d9a4e57e5",
        "colab": {
          "base_uri": "https://localhost:8080/",
          "height": 265
        }
      },
      "execution_count": 11,
      "outputs": [
        {
          "output_type": "display_data",
          "data": {
            "image/png": "[encoded data removed]",
            "text/plain": [
              "<Figure size 432x288 with 1 Axes>"
            ]
          },
          "metadata": {
            "needs_background": "light"
          }
        }
      ]
    }
  ],
  "metadata": {
    "colab": {
      "collapsed_sections": [],
      "name": "logistic.ipynb",
      "provenance": [],
      "include_colab_link": true
    },
    "kernelspec": {
      "display_name": "Python 3",
      "name": "python3"
    },
    "language_info": {
      "name": "python"
    }
  },
  "nbformat": 4,
  "nbformat_minor": 0
}